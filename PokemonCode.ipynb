{
 "cells": [
  {
   "cell_type": "markdown",
   "metadata": {},
   "source": [
    " # Pokemon Image Clustering #"
   ]
  },
  {
   "cell_type": "code",
   "execution_count": 1,
   "metadata": {},
   "outputs": [],
   "source": [
    "# for loading/processing the images\n",
    "from keras.preprocessing.image import load_img\n",
    "from keras.preprocessing.image import img_to_array \n",
    "from keras.applications.vgg16 import preprocess_input\n",
    "# for other things\n",
    "import random\n",
    "import numpy as np\n",
    "import pandas as pd\n",
    "import scipy.stats as stats\n",
    "import matplotlib.pyplot as plt"
   ]
  },
  {
   "cell_type": "code",
   "execution_count": 2,
   "metadata": {},
   "outputs": [
    {
     "name": "stdout",
     "output_type": "stream",
     "text": [
      "[['0282b2f3a22745f1a436054ea15a0ae5.jpg', 'Abra'], ['06b9eec4827d4d49b1b4c284308708df.jpg', 'Abra'], ['10a9f06ec6524c66b779ea80354f8519.jpg', 'Abra'], ['1788abb8b51f48509cfac8067bd99e14.jpg', 'Abra'], ['28cfad92ad934d1f9b579cbff4b5d012.jpg', 'Abra'], ['2eb2a528f9a247358452b3c740df69a0.jpg', 'Abra'], ['2fd28e699b7c4208acd1637fbad5df2d.jpeg', 'Abra'], ['32240b108a8140f8b31c495166fc453c.jpg', 'Abra'], ['34532bb006714727ade4075f0a72b92d.jpg', 'Abra'], ['3680c3f65a484c3ba05a7cb93e1d7ae3.jpg', 'Abra']]\n"
     ]
    }
   ],
   "source": [
    "import os\n",
    "\n",
    "pokemons = []\n",
    "rootdir = '../data/PokemonData'\n",
    "for subdir, dirs, files in os.walk(rootdir):\n",
    "    for file in files:\n",
    "        pokemons.append([file, subdir.split('\\\\')[-1]])\n",
    "        \n",
    "print(pokemons[:10])"
   ]
  },
  {
   "cell_type": "code",
   "execution_count": null,
   "metadata": {},
   "outputs": [],
   "source": [
    "pokemon_labels = pd.DataFrame(pokemons, columns = ['FileName', 'Label'])\n",
    "# credit to https://towardsdatascience.com/how-to-cluster-images-based-on-visual-similarity-cd6e7209fe34\n",
    "#    for help with image processing\n",
    "# load the image as a 224x224 array\n",
    "import matplotlib.image as mpimg\n",
    "import imghdr\n",
    "img_dict = {}\n",
    "for pokemon in range(len(pokemon_labels)):\n",
    "    img_path = '../data/PokemonData/'+pokemon_labels.iloc[pokemon]['Label']+'/'+pokemon_labels.iloc[pokemon]['FileName']\n",
    "    img_type = imghdr.what(img_path)\n",
    "    if img_type != \"png\" and img_type != \"jpg\" and img_type != \"jpeg\":\n",
    "        os.remove(img_path)\n",
    "    else:\n",
    "        img = load_img(img_path, target_size=(224,224))\n",
    "        # convert from 'PIL.Image.Image' to numpy array\n",
    "        img = np.array(img)\n",
    "        reshaped_img = img.reshape(224,224,3)\n",
    "        x = preprocess_input(reshaped_img)\n",
    "        if pokemon_labels.iloc[pokemon]['Label'] in img_dict.keys(): img_dict[pokemon_labels.iloc[pokemon]['Label']].append(x)\n",
    "        else : img_dict[pokemon_labels.iloc[pokemon]['Label']] = [x]"
   ]
  },
  {
   "cell_type": "code",
   "execution_count": null,
   "metadata": {},
   "outputs": [],
   "source": []
  },
  {
   "cell_type": "code",
   "execution_count": null,
   "metadata": {},
   "outputs": [],
   "source": [
    "class img_K_means:\n",
    "    def __init__(self,img_dict,K,dist_func):\n",
    "        self.imgs       = img_dict #dictionary\n",
    "        self.clustroids = np.asarray(random.sample(img_dict.keys(), K))\n",
    "        self.centroids  = [224,224,3]*K\n",
    "        self.distances  = np.zeros([K])\n",
    "        self.clusters   = {}\n",
    "        self.k = K\n",
    "        self.dist_func  = dist_func\n",
    "        for i in self.clustroids: self.clusters[i] = [i]\n",
    "        for i in range(K): self.centroids[i] = random.choice(img_dict[self.clustroids[i]])\n",
    "        \n",
    "    def cluster(self):\n",
    "        for img_label,img_val in zip(self.imgs.keys(),self.imgs.values()):\n",
    "            for j, clustroid in enumerate(self.clustroids):\n",
    "                self.distances[j] = self.squared_dist(img_val,self.centroids[j])\n",
    "                index = np.argmin(self.distances)\n",
    "                print(self.distances)\n",
    "                if self.clustroids[index] in self.clusters.keys(): \n",
    "                    print(self.clustroids[index], self.clusters[self.clustroids[index]])\n",
    "                    self.clusters[self.clustroids[index]].append(img_label)\n",
    "                else: self.clusters[self.clustroids[index]] = [img_label]\n",
    "                \n",
    "    def compute_centroids(self):\n",
    "        distances = np.zeros([1,len(imgs.keys())])\n",
    "        self.clusters = {}\n",
    "        for index,cluster in enumerate(self.clusters.keys()):\n",
    "            centroid = np.zeros([224,224,3])\n",
    "            for img_label in self.clusters[cluster]: centroid += imgs[img_label]\n",
    "            self.centroids[index] = centroid/len(self.clusters[cluster])\n",
    "            for i, img_val in enumerate(self.imgs.values()): distances[i] = self.squared_dist(img_val,clustroid)\n",
    "            index = np.argmin(distances)\n",
    "            if img_labels[index] in self.clusters.keys(): print(\"FUUUUUUUUUUCK\")\n",
    "            else: self.clusters[img_label[index]] = img_label[index]\n",
    "        \n",
    "    def squared_dist(self,img1,img2):\n",
    "        return np.sqrt(np.sum((img1-img2)**2))\n",
    "    \n",
    "    def fit(self):\n",
    "        cloysters = self.clusters\n",
    "        for i in range(1000):\n",
    "            self.cluster()\n",
    "            self.compute_centroids()\n",
    "            if cloysters == self.clusters: break\n",
    "            cloysters = self.clusters\n",
    "            \n",
    "first_try = img_K_means(img_dict,150,0)\n",
    "first_try.fit()\n",
    "                \n",
    "\n",
    "            "
   ]
  },
  {
   "cell_type": "code",
   "execution_count": null,
   "metadata": {},
   "outputs": [],
   "source": [
    "print(first_try.clusters)"
   ]
  },
  {
   "cell_type": "code",
   "execution_count": null,
   "metadata": {},
   "outputs": [],
   "source": []
  }
 ],
 "metadata": {
  "kernelspec": {
   "display_name": "Python 3",
   "language": "python",
   "name": "python3"
  },
  "language_info": {
   "codemirror_mode": {
    "name": "ipython",
    "version": 3
   },
   "file_extension": ".py",
   "mimetype": "text/x-python",
   "name": "python",
   "nbconvert_exporter": "python",
   "pygments_lexer": "ipython3",
   "version": "3.8.8"
  }
 },
 "nbformat": 4,
 "nbformat_minor": 4
}
