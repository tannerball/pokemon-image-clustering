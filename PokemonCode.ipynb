{
 "cells": [
  {
   "cell_type": "markdown",
   "metadata": {},
   "source": [
    " # Pokemon Image Clustering #"
   ]
  },
  {
   "cell_type": "code",
   "execution_count": 1,
   "metadata": {},
   "outputs": [
    {
     "name": "stderr",
     "output_type": "stream",
     "text": [
      "Using TensorFlow backend.\n"
     ]
    }
   ],
   "source": [
    "# for loading/processing the images\n",
    "from keras.preprocessing.image import load_img\n",
    "from keras.preprocessing.image import img_to_array \n",
    "from keras.applications.vgg16 import preprocess_input\n",
    "# for other things\n",
    "import numpy as np\n",
    "import pandas as pd\n",
    "import scipy.stats as stats\n",
    "import matplotlib.pyplot as plt"
   ]
  },
  {
   "cell_type": "code",
   "execution_count": 33,
   "metadata": {},
   "outputs": [
    {
     "name": "stdout",
     "output_type": "stream",
     "text": [
      "['0282b2f3a22745f1a436054ea15a0ae5.jpg', '06b9eec4827d4d49b1b4c284308708df.jpg', '10a9f06ec6524c66b779ea80354f8519.jpg', '1788abb8b51f48509cfac8067bd99e14.jpg', '28cfad92ad934d1f9b579cbff4b5d012.jpg', '2eb2a528f9a247358452b3c740df69a0.jpg', '2fd28e699b7c4208acd1637fbad5df2d.jpeg', '32240b108a8140f8b31c495166fc453c.jpg', '34532bb006714727ade4075f0a72b92d.jpg', '3680c3f65a484c3ba05a7cb93e1d7ae3.jpg']\n"
     ]
    }
   ],
   "source": [
    "import os\n",
    "\n",
    "pokemons = []\n",
    "rootdir = '../data/PokemonData'\n",
    "for subdir, dirs, files in os.walk(rootdir):\n",
    "    for file in files:\n",
    "        pokemons.append(file)\n",
    "        \n",
    "print(pokemons[:10])"
   ]
  },
  {
   "cell_type": "code",
   "execution_count": 28,
   "metadata": {},
   "outputs": [
    {
     "name": "stdout",
     "output_type": "stream",
     "text": [
      "(224, 224, 3)\n",
      "(1, 224, 224, 3)\n"
     ]
    }
   ],
   "source": [
    "# credit to https://towardsdatascience.com/how-to-cluster-images-based-on-visual-similarity-cd6e7209fe34\n",
    "#    for help with image processing\n",
    "# load the image as a 224x224 array\n",
    "img = load_img('../data/PokemonData/'+pokemons[0], target_size=(224,224))\n",
    "# convert from 'PIL.Image.Image' to numpy array\n",
    "img = np.array(img)\n",
    "print(img.shape)\n",
    "reshaped_img = img.reshape(1,224,224,3)\n",
    "print(reshaped_img.shape)\n",
    "x = preprocess_input(reshaped_img)"
   ]
  }
 ],
 "metadata": {
  "kernelspec": {
   "display_name": "Python 3",
   "language": "python",
   "name": "python3"
  },
  "language_info": {
   "codemirror_mode": {
    "name": "ipython",
    "version": 3
   },
   "file_extension": ".py",
   "mimetype": "text/x-python",
   "name": "python",
   "nbconvert_exporter": "python",
   "pygments_lexer": "ipython3",
   "version": "3.6.12"
  }
 },
 "nbformat": 4,
 "nbformat_minor": 4
}
